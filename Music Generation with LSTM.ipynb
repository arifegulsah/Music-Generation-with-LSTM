{
 "cells": [
  {
   "cell_type": "markdown",
   "id": "a1f0f141",
   "metadata": {},
   "source": [
    "# Music Generation with LSTM\n",
    "\n",
    "### Amaç: Ön işlemesini yaptığım piyano verilerini verdiğim ve **lstm** katmanı içeren modelimin, yeni bir audio file üretebilmesi\n",
    "\n",
    "#### Adımlar:\n",
    "1. Importing Libs\n",
    "2. Uploading Train Data\n",
    "3. Analyzing Data\n",
    "4. Data Preprocessing\n",
    "5. Building Model\n",
    "6. Evaluating Model\n",
    "7. Outcomes"
   ]
  },
  {
   "cell_type": "markdown",
   "id": "16fc7e14",
   "metadata": {},
   "source": [
    "## 1. IMPORTING LIBS\n",
    "\n",
    "Modelimizi tensorflow yardımı ile oluşturacağız. Music dosyalarımız için ise *music21* paketimizden yararlanacağız."
   ]
  },
  {
   "cell_type": "code",
   "execution_count": 1,
   "id": "253c1e89",
   "metadata": {},
   "outputs": [],
   "source": [
    "import tensorflow \n",
    "import os\n",
    "import numpy as np \n",
    "import pandas as pd \n",
    "from collections import Counter\n",
    "import random\n",
    "import IPython\n",
    "from IPython.display import Image, Audio\n",
    "import music21\n",
    "from music21 import *\n",
    "import matplotlib.pyplot as plt \n",
    "from sklearn.model_selection import train_test_split\n",
    "from tensorflow.keras.models import Sequential\n",
    "from tensorflow.keras.layers import LSTM, Dense, Dropout\n",
    "import tensorflow.keras.backend as K\n",
    "from tensorflow.keras.optimizers import Adamax\n",
    "import seaborn as sns\n",
    "import matplotlib.pyplot as plt\n",
    "import matplotlib.patches as mpatches\n",
    "import sys\n",
    "import warnings\n",
    "warnings.filterwarnings(\"ignore\")\n",
    "warnings.simplefilter(\"ignore\")\n",
    "np.random.seed(42)"
   ]
  },
  {
   "cell_type": "markdown",
   "id": "179373f4",
   "metadata": {},
   "source": [
    "## 2. UPLOADING TRAIN DATA\n",
    "\n",
    "MIDI dosyaları bize sanatçıların şarkılar için yazdığı akorları ve melodileri sunan *.mid* uzantılı ses dosyalarıdır. <br> \n",
    "Bu kısımda ana dosyamda bulunan beethovena ait 9 farklı şarkımı upload ediyorum. <br> \n",
    "Bu döngü sayesinde uzantısı sadece .mid ile biten dosyaları çekiyorum ve *all_midis* ismini verdiğim bir listede tutuyorum. <br> \n",
    "Sonrasında örneğin dosyamın ismi Beethoven1.mid ise\n",
    "Bu dosyayı kabul et, tr diye bir geçici değişkende ele alacak olduğum şarkının asıl pathini yani BeethovenMidiFiles/Beethoven1.mid'i tut, <br> \n",
    "sonra midi diye başka bir değişkende music21 paketinden gelen converter.parse ike music dosyasını tutuyoruz,<br> \n",
    "en sonda all_midis diye oluşturduğumuz boş arraye bunları append ediyoruz yani birleştiyoruz \n",
    "loop son buluyor...\n"
   ]
  },
  {
   "cell_type": "code",
   "execution_count": 2,
   "id": "843f3b47",
   "metadata": {},
   "outputs": [],
   "source": [
    "filepath = \"BeethovenMidiFiles/\"\n",
    "\n",
    "all_midis= []\n",
    "for i in os.listdir(filepath):\n",
    "    if i.endswith(\".mid\"):\n",
    "        tr = filepath+i\n",
    "        midi = converter.parse(tr)\n",
    "        all_midis.append(midi)"
   ]
  },
  {
   "cell_type": "markdown",
   "id": "1f77501b",
   "metadata": {},
   "source": [
    "## 3. ANALYZING DATA\n",
    "\n",
    "Midi dosyaları notaları ve akorları beraber tutarlar. <br>\n",
    "Notalar bildiğimiz üzer A B C D E G  şeklinde \n",
    "do re mi fa ... ya tekabül etmektedir <br> ve farklı perdeleri vs vs (çok bilmiyorum) ifade etmek üzere G# gibi ya da A2 gibi\n",
    "ifadeler ile tutulmaktadır. <br>Akorlar ise birden fazla notaları içeren ses kümeleri dir diyebiliriz.<br>\n",
    "Biz yalnızca notalar üzerinde işlem yapacağımız için all_midis arrayimizde bulunan her bir şarkı için\n",
    "notaları extract etmemiz gerekmektedir.<br>\n",
    "Bunu da aşağıdaki fonksiyon aracığı ile yaptık. <br>Ve bu extract edilen notaları Corpus isimli bir değişkende tuttuk<br>\n"
   ]
  },
  {
   "cell_type": "code",
   "execution_count": 3,
   "id": "35cdef6a",
   "metadata": {},
   "outputs": [],
   "source": [
    "def extract_notes(file):\n",
    "    notes = []\n",
    "    pick = None\n",
    "    for j in file:\n",
    "        songs = instrument.partitionByInstrument(j)\n",
    "        for part in songs.parts:\n",
    "            pick = part.recurse()\n",
    "            for element in pick:\n",
    "                if isinstance(element, note.Note):\n",
    "                    notes.append(str(element.pitch))\n",
    "                elif isinstance(element, chord.Chord):\n",
    "                    notes.append(\".\".join(str(n) for n in element.normalOrder))\n",
    "\n",
    "    return notes"
   ]
  },
  {
   "cell_type": "markdown",
   "id": "0cf0241e",
   "metadata": {},
   "source": [
    "Artık ilgilenecek olduğumuz veriler corpus isimli değişkende tutulmaktadır. <br>\n",
    "Bu notaları inceleyeceğiz ve üzerilerinde işlem yapacağız."
   ]
  },
  {
   "cell_type": "code",
   "execution_count": 4,
   "id": "9ebbffb6",
   "metadata": {},
   "outputs": [
    {
     "name": "stdout",
     "output_type": "stream",
     "text": [
      "Total notes in all the Beethoven midis in the dataset: 39325\n",
      "First fifty values in the Corpus: ['7.11', '9.0', '11.2', 'G2', '10.1', '11.2', 'B2', '10.1', '11.2', 'D3', '10.1', '11.2', 'G3', 'G2', '0.4', '8.11', '9.0', 'D3', 'D2', '11.2', '6.9', '7', 'B4', 'G1', '7.11', '9.2', '7.11', 'G2', '6.10', '7.11', 'B2', '6.10', '7.11', 'E-3', '6.10', '7.11', 'E3', 'F#3', '6.9', 'G3', '4.7', '4.7', 'A3', '2.6', '2.6', 'A2', '6.9', '4.7', '1.4', '2']\n"
     ]
    }
   ],
   "source": [
    "Corpus= extract_notes(all_midis)\n",
    "print(\"Total notes in all the Beethoven midis in the dataset:\", len(Corpus))\n",
    "print(\"First fifty values in the Corpus:\", Corpus[:50])"
   ]
  },
  {
   "cell_type": "markdown",
   "id": "1ba3b6f8",
   "metadata": {},
   "source": [
    "şunu print ederek ilk elli notamızı inceleyim. hangi notalar varmış elimizde?? <br>\n",
    "   toplamda 39325 tane notamız var buarada<br>\n",
    "   bütün bu sözel şekilde ifade edilen notalar müzikçilerin anlayacağı dildeki notalara python ile çevilebilir\n",
    "yani biz bu notaları nota portresinde gösterebiliriz. bunun için şu kodu yazıyoruz.\n"
   ]
  },
  {
   "cell_type": "code",
   "execution_count": 5,
   "id": "e5f5e5ae",
   "metadata": {},
   "outputs": [
    {
     "name": "stdout",
     "output_type": "stream",
     "text": [
      "Total unique notes in the Corpus: 293\n"
     ]
    }
   ],
   "source": [
    "def show(music):\n",
    "    display(Image(str(music.write(\"lily.png\"))))\n",
    "    \n",
    "def chords_n_notes(Snippet):\n",
    "    Melody = []\n",
    "    offset = 0 #Incremental\n",
    "    for i in Snippet:\n",
    "        #If it is chord\n",
    "        if (\".\" in i or i.isdigit()):\n",
    "            chord_notes = i.split(\".\") #Seperating the notes in chord\n",
    "            notes = [] \n",
    "            for j in chord_notes:\n",
    "                inst_note=int(j)\n",
    "                note_snip = note.Note(inst_note)            \n",
    "                notes.append(note_snip)\n",
    "                chord_snip = chord.Chord(notes)\n",
    "                chord_snip.offset = offset\n",
    "                Melody.append(chord_snip)\n",
    "        # pattern is a note\n",
    "        else: \n",
    "            note_snip = note.Note(i)\n",
    "            note_snip.offset = offset\n",
    "            Melody.append(note_snip)\n",
    "        # increase offset each iteration so that notes do not stack\n",
    "        offset += 1\n",
    "    Melody_midi = stream.Stream(Melody)   \n",
    "    return Melody_midi\n",
    "\n",
    "Melody_Snippet = chords_n_notes(Corpus[:100])\n",
    "count_num = Counter(Corpus)\n",
    "print(\"Total unique notes in the Corpus:\", len(count_num))"
   ]
  },
  {
   "cell_type": "markdown",
   "id": "6b018c93",
   "metadata": {},
   "source": [
    "## 4. DATA PREPROCESSING\n",
    "\"En çok ve en az bulunan notaları yazdırıyoruz. <br>\n",
    "Çünkü bazı notalar sıklıkla gözükürken bazıları çok az gözükmektedir<br>\n",
    "ve çok az gözüken notalar yeni generate edeceğimiz fileın yapısını bozabilir.<br>\n",
    "İlerleyen fonksiyonumuzda bu az gözüken notaları liste dışında bırakacağız. Ve sıklıkla\n",
    "gözüken notalara odaklanacağız.\"<br>"
   ]
  },
  {
   "cell_type": "code",
   "execution_count": 6,
   "id": "320e9f5c",
   "metadata": {
    "scrolled": true
   },
   "outputs": [
    {
     "name": "stdout",
     "output_type": "stream",
     "text": [
      "Average recurrenc for a note in Corpus: 134.21501706484642\n",
      "Most frequent note in Corpus appeared: 1189 times\n",
      "Least frequent note in Corpus appeared: 1 time\n"
     ]
    }
   ],
   "source": [
    "Notes = list(count_num.keys())\n",
    "Recurrence = list(count_num.values())\n",
    "\n",
    "def Average(lst):\n",
    "    return sum(lst) / len(lst)\n",
    "print(\"Average recurrenc for a note in Corpus:\", Average(Recurrence))\n",
    "print(\"Most frequent note in Corpus appeared:\", max(Recurrence), \"times\")\n",
    "print(\"Least frequent note in Corpus appeared:\", min(Recurrence), \"time\")\n"
   ]
  },
  {
   "cell_type": "code",
   "execution_count": 7,
   "id": "a5177763",
   "metadata": {},
   "outputs": [
    {
     "data": {
      "image/png": "[encoded data removed]",
      "text/plain": [
       "<Figure size 1296x216 with 1 Axes>"
      ]
     },
     "metadata": {
      "image/png": {
       "height": 222,
       "width": 1065
      }
     },
     "output_type": "display_data"
    }
   ],
   "source": [
    "plt.figure(figsize=(18,3),facecolor=\"#97BACB\")\n",
    "bins = np.arange(0,(max(Recurrence)), 50) \n",
    "plt.hist(Recurrence, bins=bins, color=\"#97BACB\")\n",
    "plt.axvline(x=100,color=\"#DBACC1\")\n",
    "plt.title(\"Frequency Distribution Of Notes In The Corpus\")\n",
    "plt.xlabel(\"Frequency Of Chords in Corpus\")\n",
    "plt.ylabel(\"Number Of Chords\")\n",
    "plt.show()"
   ]
  },
  {
   "cell_type": "markdown",
   "id": "ea2c2307",
   "metadata": {},
   "source": [
    "Görülme sıklığı az olan akorlarımızı biz listede turuyoruz ki sonra bunları eleyelim."
   ]
  },
  {
   "cell_type": "code",
   "execution_count": 8,
   "id": "a142b91f",
   "metadata": {},
   "outputs": [
    {
     "name": "stdout",
     "output_type": "stream",
     "text": [
      "Total number of notes that occur less than 100 times: 203\n"
     ]
    }
   ],
   "source": [
    "rare_note = []\n",
    "for index, (key, value) in enumerate(count_num.items()):\n",
    "    if value < 100:\n",
    "        m =  key\n",
    "        rare_note.append(m)\n",
    "        \n",
    "print(\"Total number of notes that occur less than 100 times:\", len(rare_note))"
   ]
  },
  {
   "cell_type": "markdown",
   "id": "40d5d940",
   "metadata": {},
   "source": [
    "Görülme sıklığı az olan notaları devre dışı bırakıyoruz.\n",
    "remove() fonksiyonumuz bu notaları rare_note ismini verdiğimiz listeden temizliyor."
   ]
  },
  {
   "cell_type": "code",
   "execution_count": 9,
   "id": "4350a6a7",
   "metadata": {},
   "outputs": [
    {
     "name": "stdout",
     "output_type": "stream",
     "text": [
      "Length of Corpus after elemination the rare notes: 36395\n"
     ]
    }
   ],
   "source": [
    "for element in Corpus:\n",
    "    if element in rare_note:\n",
    "        Corpus.remove(element)\n",
    "\n",
    "print(\"Length of Corpus after elemination the rare notes:\", len(Corpus))"
   ]
  },
  {
   "cell_type": "code",
   "execution_count": 10,
   "id": "53de7b1d",
   "metadata": {},
   "outputs": [
    {
     "name": "stdout",
     "output_type": "stream",
     "text": [
      "Total number of characters: 36395\n",
      "Number of unique characters: 243\n"
     ]
    }
   ],
   "source": [
    "# Storing all the unique characters present in my corpus to bult a mapping dic. \n",
    "symb = sorted(list(set(Corpus)))\n",
    "\n",
    "L_corpus = len(Corpus) #length of corpus\n",
    "L_symb = len(symb) #length of total unique characters\n",
    "\n",
    "#Building dictionary to access the vocabulary from indices and vice versa\n",
    "mapping = dict((c, i) for i, c in enumerate(symb))\n",
    "reverse_mapping = dict((i, c) for i, c in enumerate(symb))\n",
    "\n",
    "print(\"Total number of characters:\", L_corpus)\n",
    "print(\"Number of unique characters:\", L_symb)"
   ]
  },
  {
   "cell_type": "code",
   "execution_count": 11,
   "id": "402c5e85",
   "metadata": {},
   "outputs": [
    {
     "name": "stdout",
     "output_type": "stream",
     "text": [
      "Total number of sequences in the Corpus: 36355\n"
     ]
    }
   ],
   "source": [
    "#Splitting the Corpus in equal length of strings and output target\n",
    "length = 40\n",
    "features = []\n",
    "targets = []\n",
    "for i in range(0, L_corpus - length, 1):\n",
    "    feature = Corpus[i:i + length]\n",
    "    target = Corpus[i + length]\n",
    "    features.append([mapping[j] for j in feature])\n",
    "    targets.append(mapping[target])\n",
    "    \n",
    "    \n",
    "L_datapoints = len(targets)\n",
    "print(\"Total number of sequences in the Corpus:\", L_datapoints)"
   ]
  },
  {
   "cell_type": "code",
   "execution_count": 12,
   "id": "8aaa3157",
   "metadata": {},
   "outputs": [],
   "source": [
    "# reshape X and normalize\n",
    "X = (np.reshape(features, (L_datapoints, length, 1)))/ float(L_symb)\n",
    "# one hot encode the output variable\n",
    "y = tensorflow.keras.utils.to_categorical(targets) \n",
    "\n",
    "#Taking out a subset of data to be used as seed\n",
    "X_train, X_seed, y_train, y_seed = train_test_split(X, y, test_size=0.2, random_state=42)"
   ]
  },
  {
   "cell_type": "markdown",
   "id": "9e104225",
   "metadata": {},
   "source": [
    "## 5. BUILDING MODEL"
   ]
  },
  {
   "cell_type": "code",
   "execution_count": 13,
   "id": "3c91398d",
   "metadata": {},
   "outputs": [
    {
     "name": "stdout",
     "output_type": "stream",
     "text": [
      "Model: \"sequential\"\n",
      "_________________________________________________________________\n",
      "Layer (type)                 Output Shape              Param #   \n",
      "=================================================================\n",
      "lstm (LSTM)                  (None, 40, 512)           1052672   \n",
      "_________________________________________________________________\n",
      "dropout (Dropout)            (None, 40, 512)           0         \n",
      "_________________________________________________________________\n",
      "lstm_1 (LSTM)                (None, 256)               787456    \n",
      "_________________________________________________________________\n",
      "dense (Dense)                (None, 256)               65792     \n",
      "_________________________________________________________________\n",
      "dropout_1 (Dropout)          (None, 256)               0         \n",
      "_________________________________________________________________\n",
      "dense_1 (Dense)              (None, 243)               62451     \n",
      "=================================================================\n",
      "Total params: 1,968,371\n",
      "Trainable params: 1,968,371\n",
      "Non-trainable params: 0\n",
      "_________________________________________________________________\n"
     ]
    }
   ],
   "source": [
    "#Initialising the Model\n",
    "model = Sequential()\n",
    "#Adding layers\n",
    "model.add(LSTM(512, input_shape=(X.shape[1], X.shape[2]), return_sequences=True))\n",
    "model.add(Dropout(0.1))\n",
    "model.add(LSTM(256))\n",
    "model.add(Dense(256))\n",
    "model.add(Dropout(0.1))\n",
    "model.add(Dense(y.shape[1], activation='softmax'))\n",
    "#Compiling the model for training  \n",
    "opt = Adamax(learning_rate=0.01)\n",
    "model.compile(loss='categorical_crossentropy', optimizer=opt)\n",
    "model.summary()"
   ]
  },
  {
   "cell_type": "markdown",
   "id": "2ee2dcfa",
   "metadata": {},
   "source": [
    "Training model"
   ]
  },
  {
   "cell_type": "code",
   "execution_count": 14,
   "id": "d5e8d4ce",
   "metadata": {},
   "outputs": [
    {
     "name": "stdout",
     "output_type": "stream",
     "text": [
      "Epoch 1/200\n",
      "114/114 [==============================] - 5s 42ms/step - loss: 4.5117\n",
      "Epoch 2/200\n",
      "114/114 [==============================] - 5s 43ms/step - loss: 4.4218\n",
      "Epoch 3/200\n",
      "114/114 [==============================] - 5s 42ms/step - loss: 4.4172\n",
      "Epoch 4/200\n",
      "114/114 [==============================] - 5s 43ms/step - loss: 4.4163\n",
      "Epoch 5/200\n",
      "114/114 [==============================] - 5s 43ms/step - loss: 4.4145\n",
      "Epoch 6/200\n",
      "114/114 [==============================] - 5s 43ms/step - loss: 4.4138\n",
      "Epoch 7/200\n",
      "114/114 [==============================] - 5s 43ms/step - loss: 4.4117\n",
      "Epoch 8/200\n",
      "114/114 [==============================] - 5s 43ms/step - loss: 4.4145\n",
      "Epoch 9/200\n",
      "114/114 [==============================] - 5s 44ms/step - loss: 4.4120\n",
      "Epoch 10/200\n",
      "114/114 [==============================] - 5s 45ms/step - loss: 4.4117\n",
      "Epoch 11/200\n",
      "114/114 [==============================] - 5s 45ms/step - loss: 4.4116\n",
      "Epoch 12/200\n",
      "114/114 [==============================] - 5s 45ms/step - loss: 4.4101\n",
      "Epoch 13/200\n",
      "114/114 [==============================] - 5s 45ms/step - loss: 4.4074\n",
      "Epoch 14/200\n",
      "114/114 [==============================] - 5s 45ms/step - loss: 4.3493: 4s - loss - E\n",
      "Epoch 15/200\n",
      "114/114 [==============================] - 5s 45ms/step - loss: 4.2949\n",
      "Epoch 16/200\n",
      "114/114 [==============================] - 5s 45ms/step - loss: 4.2882\n",
      "Epoch 17/200\n",
      "114/114 [==============================] - 5s 45ms/step - loss: 4.2834\n",
      "Epoch 18/200\n",
      "114/114 [==============================] - 5s 45ms/step - loss: 4.2688: 3s - \n",
      "Epoch 19/200\n",
      "114/114 [==============================] - 5s 47ms/step - loss: 4.2664\n",
      "Epoch 20/200\n",
      "114/114 [==============================] - 6s 48ms/step - loss: 4.2437\n",
      "Epoch 21/200\n",
      "114/114 [==============================] - 6s 48ms/step - loss: 4.2298\n",
      "Epoch 22/200\n",
      "114/114 [==============================] - 5s 48ms/step - loss: 4.2088: 1s -  - ETA: 0s - loss: 4.2\n",
      "Epoch 23/200\n",
      "114/114 [==============================] - 6s 51ms/step - loss: 4.1749\n",
      "Epoch 24/200\n",
      "114/114 [==============================] - 6s 51ms/step - loss: 4.1488: 1s - l - ETA: 0s - loss: 4 - ETA: 0s - loss:\n",
      "Epoch 25/200\n",
      "114/114 [==============================] - 6s 51ms/step - loss: 4.1056: 0s \n",
      "Epoch 26/200\n",
      "114/114 [==============================] - 6s 51ms/step - loss: 4.0608: 0s - \n",
      "Epoch 27/200\n",
      "114/114 [==============================] - 6s 52ms/step - loss: 4.0114\n",
      "Epoch 28/200\n",
      "114/114 [==============================] - 6s 53ms/step - loss: 3.9712\n",
      "Epoch 29/200\n",
      "114/114 [==============================] - 6s 54ms/step - loss: 3.9038\n",
      "Epoch 30/200\n",
      "114/114 [==============================] - 6s 53ms/step - loss: 3.8157\n",
      "Epoch 31/200\n",
      "114/114 [==============================] - 6s 54ms/step - loss: 3.7087: \n",
      "Epoch 32/200\n",
      "114/114 [==============================] - 6s 54ms/step - loss: 3.5932\n",
      "Epoch 33/200\n",
      "114/114 [==============================] - 6s 54ms/step - loss: 3.4679\n",
      "Epoch 34/200\n",
      "114/114 [==============================] - 6s 54ms/step - loss: 3.3290\n",
      "Epoch 35/200\n",
      "114/114 [==============================] - 6s 55ms/step - loss: 3.1975\n",
      "Epoch 36/200\n",
      "114/114 [==============================] - 6s 54ms/step - loss: 3.0427\n",
      "Epoch 37/200\n",
      "114/114 [==============================] - 6s 56ms/step - loss: 2.9026\n",
      "Epoch 38/200\n",
      "114/114 [==============================] - 6s 56ms/step - loss: 2.7545\n",
      "Epoch 39/200\n",
      "114/114 [==============================] - 6s 56ms/step - loss: 2.5944\n",
      "Epoch 40/200\n",
      "114/114 [==============================] - 6s 57ms/step - loss: 2.4562\n",
      "Epoch 41/200\n",
      "114/114 [==============================] - 6s 57ms/step - loss: 2.3059\n",
      "Epoch 42/200\n",
      "114/114 [==============================] - 6s 56ms/step - loss: 2.1573\n",
      "Epoch 43/200\n",
      "114/114 [==============================] - 6s 57ms/step - loss: 2.0269: 0s - loss: 2.026\n",
      "Epoch 44/200\n",
      "114/114 [==============================] - 6s 56ms/step - loss: 1.9048\n",
      "Epoch 45/200\n",
      "114/114 [==============================] - 6s 57ms/step - loss: 1.7776\n",
      "Epoch 46/200\n",
      "114/114 [==============================] - 6s 57ms/step - loss: 1.6531\n",
      "Epoch 47/200\n",
      "114/114 [==============================] - 7s 59ms/step - loss: 1.5689\n",
      "Epoch 48/200\n",
      "114/114 [==============================] - 7s 59ms/step - loss: 1.4588\n",
      "Epoch 49/200\n",
      "114/114 [==============================] - 7s 61ms/step - loss: 1.3579\n",
      "Epoch 50/200\n",
      "114/114 [==============================] - 7s 57ms/step - loss: 1.2768\n",
      "Epoch 51/200\n",
      "114/114 [==============================] - 7s 59ms/step - loss: 1.1770\n",
      "Epoch 52/200\n",
      "114/114 [==============================] - 7s 59ms/step - loss: 1.0995: 0s - l\n",
      "Epoch 53/200\n",
      "114/114 [==============================] - 7s 58ms/step - loss: 1.0149\n",
      "Epoch 54/200\n",
      "114/114 [==============================] - 7s 57ms/step - loss: 0.9553\n",
      "Epoch 55/200\n",
      "114/114 [==============================] - 7s 62ms/step - loss: 0.8856: 0s - loss: 0\n",
      "Epoch 56/200\n",
      "114/114 [==============================] - 7s 59ms/step - loss: 0.8492\n",
      "Epoch 57/200\n",
      "114/114 [==============================] - 7s 59ms/step - loss: 0.7607\n",
      "Epoch 58/200\n",
      "114/114 [==============================] - 7s 60ms/step - loss: 0.7172\n",
      "Epoch 59/200\n",
      "114/114 [==============================] - 7s 59ms/step - loss: 0.6787\n",
      "Epoch 60/200\n",
      "114/114 [==============================] - 7s 60ms/step - loss: 0.6460\n",
      "Epoch 61/200\n",
      "114/114 [==============================] - 7s 59ms/step - loss: 0.6221\n",
      "Epoch 62/200\n",
      "114/114 [==============================] - 7s 58ms/step - loss: 0.5594\n",
      "Epoch 63/200\n",
      "114/114 [==============================] - 7s 60ms/step - loss: 0.5548\n",
      "Epoch 64/200\n",
      "114/114 [==============================] - 7s 61ms/step - loss: 0.5043\n",
      "Epoch 65/200\n",
      "114/114 [==============================] - 7s 60ms/step - loss: 0.5097\n",
      "Epoch 66/200\n",
      "114/114 [==============================] - 7s 59ms/step - loss: 0.4581\n",
      "Epoch 67/200\n",
      "114/114 [==============================] - 7s 62ms/step - loss: 0.4302\n",
      "Epoch 68/200\n",
      "114/114 [==============================] - 7s 58ms/step - loss: 0.4072\n",
      "Epoch 69/200\n",
      "114/114 [==============================] - 7s 61ms/step - loss: 0.4174\n",
      "Epoch 70/200\n",
      "114/114 [==============================] - 7s 62ms/step - loss: 0.4102: 1s - loss: 0 - ETA:\n",
      "Epoch 71/200\n",
      "114/114 [==============================] - 7s 61ms/step - loss: 0.3698: 0s - loss\n",
      "Epoch 72/200\n",
      "114/114 [==============================] - 7s 60ms/step - loss: 0.3753: 0s - loss:\n",
      "Epoch 73/200\n",
      "114/114 [==============================] - 7s 60ms/step - loss: 0.3559\n",
      "Epoch 74/200\n",
      "114/114 [==============================] - 7s 59ms/step - loss: 0.3465\n",
      "Epoch 75/200\n",
      "114/114 [==============================] - 7s 60ms/step - loss: 0.3164\n",
      "Epoch 76/200\n",
      "114/114 [==============================] - 7s 59ms/step - loss: 0.3233: 0s - loss: 0.3\n",
      "Epoch 77/200\n",
      "114/114 [==============================] - 7s 60ms/step - loss: 0.3141\n",
      "Epoch 78/200\n",
      "114/114 [==============================] - 7s 63ms/step - loss: 0.3163\n",
      "Epoch 79/200\n",
      "114/114 [==============================] - 7s 61ms/step - loss: 0.3075: 0s - loss: 0.307\n",
      "Epoch 80/200\n",
      "114/114 [==============================] - 7s 61ms/step - loss: 0.2660\n",
      "Epoch 81/200\n",
      "114/114 [==============================] - 7s 61ms/step - loss: 0.2509\n",
      "Epoch 82/200\n",
      "114/114 [==============================] - 7s 61ms/step - loss: 0.2731\n",
      "Epoch 83/200\n",
      "114/114 [==============================] - 7s 61ms/step - loss: 0.2789\n",
      "Epoch 84/200\n",
      "114/114 [==============================] - 7s 61ms/step - loss: 0.2694\n",
      "Epoch 85/200\n",
      "114/114 [==============================] - 7s 61ms/step - loss: 0.2555: 1s - loss: 0.\n",
      "Epoch 86/200\n",
      "114/114 [==============================] - 7s 61ms/step - loss: 0.2543\n",
      "Epoch 87/200\n",
      "114/114 [==============================] - 7s 62ms/step - loss: 0.2503\n",
      "Epoch 88/200\n",
      "114/114 [==============================] - 7s 62ms/step - loss: 0.2313\n",
      "Epoch 89/200\n",
      "114/114 [==============================] - 7s 62ms/step - loss: 0.2266\n",
      "Epoch 90/200\n",
      "114/114 [==============================] - 7s 62ms/step - loss: 0.2262\n",
      "Epoch 91/200\n",
      "114/114 [==============================] - 8s 68ms/step - loss: 0.2086\n",
      "Epoch 92/200\n",
      "114/114 [==============================] - 7s 63ms/step - loss: 0.2245\n",
      "Epoch 93/200\n",
      "114/114 [==============================] - 8s 66ms/step - loss: 0.2253\n",
      "Epoch 94/200\n",
      "114/114 [==============================] - 7s 62ms/step - loss: 0.2166\n",
      "Epoch 95/200\n"
     ]
    },
    {
     "name": "stdout",
     "output_type": "stream",
     "text": [
      "114/114 [==============================] - 7s 65ms/step - loss: 0.2185: 0s -\n",
      "Epoch 96/200\n",
      "114/114 [==============================] - 7s 63ms/step - loss: 0.2125\n",
      "Epoch 97/200\n",
      "114/114 [==============================] - 7s 62ms/step - loss: 0.2070\n",
      "Epoch 98/200\n",
      "114/114 [==============================] - 7s 63ms/step - loss: 0.2143\n",
      "Epoch 99/200\n",
      "114/114 [==============================] - 7s 62ms/step - loss: 0.2060\n",
      "Epoch 100/200\n",
      "114/114 [==============================] - 7s 63ms/step - loss: 0.1950\n",
      "Epoch 101/200\n",
      "114/114 [==============================] - 7s 63ms/step - loss: 0.1952\n",
      "Epoch 102/200\n",
      "114/114 [==============================] - 7s 62ms/step - loss: 0.1958\n",
      "Epoch 103/200\n",
      "114/114 [==============================] - 7s 62ms/step - loss: 0.1912\n",
      "Epoch 104/200\n",
      "114/114 [==============================] - 7s 63ms/step - loss: 0.1674\n",
      "Epoch 105/200\n",
      "114/114 [==============================] - 7s 62ms/step - loss: 0.1832: 2s - ETA\n",
      "Epoch 106/200\n",
      "114/114 [==============================] - 7s 62ms/step - loss: 0.1713\n",
      "Epoch 107/200\n",
      "114/114 [==============================] - 7s 62ms/step - loss: 0.1739\n",
      "Epoch 108/200\n",
      "114/114 [==============================] - 7s 62ms/step - loss: 0.1675: 2s -\n",
      "Epoch 109/200\n",
      "114/114 [==============================] - 7s 62ms/step - loss: 0.1829\n",
      "Epoch 110/200\n",
      "114/114 [==============================] - 7s 62ms/step - loss: 0.1684 - ETA: 0s - loss: 0.16 - ETA: 0s - loss: 0\n",
      "Epoch 111/200\n",
      "114/114 [==============================] - 7s 62ms/step - loss: 0.1781: 0\n",
      "Epoch 112/200\n",
      "114/114 [==============================] - 7s 62ms/step - loss: 0.1820\n",
      "Epoch 113/200\n",
      "114/114 [==============================] - 7s 62ms/step - loss: 0.1711\n",
      "Epoch 114/200\n",
      "114/114 [==============================] - 7s 62ms/step - loss: 0.1633: 2s - lo - ETA: 2 -\n",
      "Epoch 115/200\n",
      "114/114 [==============================] - 7s 65ms/step - loss: 0.1657\n",
      "Epoch 116/200\n",
      "114/114 [==============================] - 7s 64ms/step - loss: 0.1599\n",
      "Epoch 117/200\n",
      "114/114 [==============================] - 7s 61ms/step - loss: 0.1560: 1s - los - ETA: 0s \n",
      "Epoch 118/200\n",
      "114/114 [==============================] - 7s 61ms/step - loss: 0.1665\n",
      "Epoch 119/200\n",
      "114/114 [==============================] - 7s 61ms/step - loss: 0.1595\n",
      "Epoch 120/200\n",
      "114/114 [==============================] - 7s 64ms/step - loss: 0.1456\n",
      "Epoch 121/200\n",
      "114/114 [==============================] - 7s 63ms/step - loss: 0.1483\n",
      "Epoch 122/200\n",
      "114/114 [==============================] - 7s 64ms/step - loss: 0.1476\n",
      "Epoch 123/200\n",
      "114/114 [==============================] - 7s 63ms/step - loss: 0.1549: 5s - lo - ET - ETA: 2s\n",
      "Epoch 124/200\n",
      "114/114 [==============================] - 7s 61ms/step - loss: 0.1518: 1s -  - ETA: 0s - l\n",
      "Epoch 125/200\n",
      "114/114 [==============================] - 7s 62ms/step - loss: 0.1455: 3s - loss: - ETA: 2s - loss: 0 - ETA: 2s - loss: 0.1 - ETA: 2s - loss: 0.13 - E - ETA: 0s - l\n",
      "Epoch 126/200\n",
      "114/114 [==============================] - 7s 62ms/step - loss: 0.1614 - ETA:  - ETA: 1s - lo - ETA: 0s - los\n",
      "Epoch 127/200\n",
      "114/114 [==============================] - 7s 62ms/step - loss: 0.1394- ETA: 2s - loss\n",
      "Epoch 128/200\n",
      "114/114 [==============================] - 7s 62ms/step - loss: 0.1408\n",
      "Epoch 129/200\n",
      "114/114 [==============================] - 7s 62ms/step - loss: 0.1436\n",
      "Epoch 130/200\n",
      "114/114 [==============================] - 7s 62ms/step - loss: 0.1344\n",
      "Epoch 131/200\n",
      "114/114 [==============================] - 7s 62ms/step - loss: 0.1332: 0s -\n",
      "Epoch 132/200\n",
      "114/114 [==============================] - 7s 62ms/step - loss: 0.1387\n",
      "Epoch 133/200\n",
      "114/114 [==============================] - 7s 63ms/step - loss: 0.1295\n",
      "Epoch 134/200\n",
      "114/114 [==============================] - 7s 65ms/step - loss: 0.1349: 0s - \n",
      "Epoch 135/200\n",
      "114/114 [==============================] - 7s 63ms/step - loss: 0.1232: 0s\n",
      "Epoch 136/200\n",
      "114/114 [==============================] - 7s 63ms/step - loss: 0.1242\n",
      "Epoch 137/200\n",
      "114/114 [==============================] - 7s 63ms/step - loss: 0.1377\n",
      "Epoch 138/200\n",
      "114/114 [==============================] - 7s 62ms/step - loss: 0.1278\n",
      "Epoch 139/200\n",
      "114/114 [==============================] - 7s 62ms/step - loss: 0.1432: - ET - ETA: 1s - loss: - ETA: 1s - l - ETA: 0s - loss: 0.13 - ETA: 0s - l\n",
      "Epoch 140/200\n",
      "114/114 [==============================] - 7s 63ms/step - loss: 0.1420\n",
      "Epoch 141/200\n",
      "114/114 [==============================] - 7s 61ms/step - loss: 0.1238\n",
      "Epoch 142/200\n",
      "114/114 [==============================] - 7s 61ms/step - loss: 0.1172\n",
      "Epoch 143/200\n",
      "114/114 [==============================] - 7s 65ms/step - loss: 0.1250: 0s - loss: 0.1 - ETA: 0s - loss\n",
      "Epoch 144/200\n",
      "114/114 [==============================] - 7s 62ms/step - loss: 0.1151\n",
      "Epoch 145/200\n",
      "114/114 [==============================] - 7s 62ms/step - loss: 0.1251: 0s - loss: 0.124\n",
      "Epoch 146/200\n",
      "114/114 [==============================] - 7s 62ms/step - loss: 0.1191A: - ET \n",
      "Epoch 147/200\n",
      "114/114 [==============================] - 7s 62ms/step - loss: 0.1283: 0\n",
      "Epoch 148/200\n",
      "114/114 [==============================] - 7s 64ms/step - loss: 0.1114: 0s - loss: - ETA: 0s - loss: \n",
      "Epoch 149/200\n",
      "114/114 [==============================] - 8s 68ms/step - loss: 0.1127\n",
      "Epoch 150/200\n",
      "114/114 [==============================] - 7s 65ms/step - loss: 0.1149: 1s - loss: 0. - ETA: 0s - loss - ETA: 0s - loss:\n",
      "Epoch 151/200\n",
      "114/114 [==============================] - 7s 63ms/step - loss: 0.1256\n",
      "Epoch 152/200\n",
      "114/114 [==============================] - 7s 64ms/step - loss: 0.1232 ETA: 0s - loss: 0.122\n",
      "Epoch 153/200\n",
      "114/114 [==============================] - 7s 61ms/step - loss: 0.1088\n",
      "Epoch 154/200\n",
      "114/114 [==============================] - 7s 61ms/step - loss: 0.1056\n",
      "Epoch 155/200\n",
      "114/114 [==============================] - 7s 61ms/step - loss: 0.1110\n",
      "Epoch 156/200\n",
      "114/114 [==============================] - 7s 61ms/step - loss: 0.1003\n",
      "Epoch 157/200\n",
      "114/114 [==============================] - 7s 61ms/step - loss: 0.1068: 0s - lo\n",
      "Epoch 158/200\n",
      "114/114 [==============================] - 7s 65ms/step - loss: 0.1106\n",
      "Epoch 159/200\n",
      "114/114 [==============================] - 7s 66ms/step - loss: 0.1193\n",
      "Epoch 160/200\n",
      "114/114 [==============================] - 7s 63ms/step - loss: 0.1212\n",
      "Epoch 161/200\n",
      "114/114 [==============================] - 7s 60ms/step - loss: 0.1117\n",
      "Epoch 162/200\n",
      "114/114 [==============================] - 7s 65ms/step - loss: 0.1194: 3s  - ET\n",
      "Epoch 163/200\n",
      "114/114 [==============================] - 7s 65ms/step - loss: 0.1093\n",
      "Epoch 164/200\n",
      "114/114 [==============================] - 7s 61ms/step - loss: 0.1070: 0s - loss: 0.1\n",
      "Epoch 165/200\n",
      "114/114 [==============================] - 7s 61ms/step - loss: 0.1079\n",
      "Epoch 166/200\n",
      "114/114 [==============================] - 7s 61ms/step - loss: 0.1092\n",
      "Epoch 167/200\n",
      "114/114 [==============================] - 7s 61ms/step - loss: 0.1031\n",
      "Epoch 168/200\n",
      "114/114 [==============================] - 7s 62ms/step - loss: 0.0999\n",
      "Epoch 169/200\n",
      "114/114 [==============================] - 7s 64ms/step - loss: 0.1017\n",
      "Epoch 170/200\n",
      "114/114 [==============================] - 7s 63ms/step - loss: 0.1084\n",
      "Epoch 171/200\n",
      "114/114 [==============================] - 7s 63ms/step - loss: 0.1174\n",
      "Epoch 172/200\n",
      "114/114 [==============================] - 7s 62ms/step - loss: 0.1167\n",
      "Epoch 173/200\n",
      "114/114 [==============================] - 7s 63ms/step - loss: 0.1049\n",
      "Epoch 174/200\n",
      "114/114 [==============================] - 7s 62ms/step - loss: 0.0946\n",
      "Epoch 175/200\n",
      "114/114 [==============================] - 7s 63ms/step - loss: 0.0889\n",
      "Epoch 176/200\n",
      "114/114 [==============================] - 7s 62ms/step - loss: 0.1030: 3s - l - ETA: 2s - l - ETA: 0s - loss: 0.10\n",
      "Epoch 177/200\n",
      "114/114 [==============================] - 7s 62ms/step - loss: 0.1046 - ETA: 0s - loss: 0. - ETA: 0s - \n",
      "Epoch 178/200\n",
      "114/114 [==============================] - 7s 62ms/step - loss: 0.1023: 0s - loss: 0.\n",
      "Epoch 179/200\n",
      "114/114 [==============================] - 7s 60ms/step - loss: 0.0986: 1s - lo - ETA: 0s - lo\n",
      "Epoch 180/200\n",
      "114/114 [==============================] - 7s 61ms/step - loss: 0.0967\n",
      "Epoch 181/200\n",
      "114/114 [==============================] - 7s 61ms/step - loss: 0.0889: 0s - los\n",
      "Epoch 182/200\n",
      "114/114 [==============================] - 7s 61ms/step - loss: 0.0959\n",
      "Epoch 183/200\n"
     ]
    },
    {
     "name": "stdout",
     "output_type": "stream",
     "text": [
      "114/114 [==============================] - 7s 64ms/step - loss: 0.0946\n",
      "Epoch 184/200\n",
      "114/114 [==============================] - 7s 63ms/step - loss: 0.0926: 0s - loss: 0.092\n",
      "Epoch 185/200\n",
      "114/114 [==============================] - 7s 63ms/step - loss: 0.1038\n",
      "Epoch 186/200\n",
      "114/114 [==============================] - 7s 63ms/step - loss: 0.0865\n",
      "Epoch 187/200\n",
      "114/114 [==============================] - 7s 63ms/step - loss: 0.0937: 0s -\n",
      "Epoch 188/200\n",
      "114/114 [==============================] - 7s 63ms/step - loss: 0.0930\n",
      "Epoch 189/200\n",
      "114/114 [==============================] - 7s 60ms/step - loss: 0.1033\n",
      "Epoch 190/200\n",
      "114/114 [==============================] - 7s 63ms/step - loss: 0.0960\n",
      "Epoch 191/200\n",
      "114/114 [==============================] - 7s 63ms/step - loss: 0.0972\n",
      "Epoch 192/200\n",
      "114/114 [==============================] - 7s 63ms/step - loss: 0.0998: 3s - lo - \n",
      "Epoch 193/200\n",
      "114/114 [==============================] - 7s 63ms/step - loss: 0.0884\n",
      "Epoch 194/200\n",
      "114/114 [==============================] - 7s 62ms/step - loss: 0.0904\n",
      "Epoch 195/200\n",
      "114/114 [==============================] - 7s 60ms/step - loss: 0.0895\n",
      "Epoch 196/200\n",
      "114/114 [==============================] - 7s 60ms/step - loss: 0.0880\n",
      "Epoch 197/200\n",
      "114/114 [==============================] - 7s 60ms/step - loss: 0.1011\n",
      "Epoch 198/200\n",
      "114/114 [==============================] - 7s 60ms/step - loss: 0.0888\n",
      "Epoch 199/200\n",
      "114/114 [==============================] - 7s 66ms/step - loss: 0.0908\n",
      "Epoch 200/200\n",
      "114/114 [==============================] - 7s 60ms/step - loss: 0.0908\n"
     ]
    }
   ],
   "source": [
    "history = model.fit(X_train, y_train, batch_size=256, epochs=200)"
   ]
  },
  {
   "cell_type": "code",
   "execution_count": 20,
   "id": "384a6608",
   "metadata": {},
   "outputs": [
    {
     "data": {
      "text/plain": [
       "'Melody_Generated.mid'"
      ]
     },
     "execution_count": 20,
     "metadata": {},
     "output_type": "execute_result"
    },
    {
     "data": {
      "image/png": "[encoded data removed]",
      "text/plain": [
       "<Figure size 1080x288 with 1 Axes>"
      ]
     },
     "metadata": {
      "image/png": {
       "height": 290,
       "width": 878
      }
     },
     "output_type": "display_data"
    }
   ],
   "source": [
    "#Plotting the learnings \n",
    "history_df = pd.DataFrame(history.history)\n",
    "fig = plt.figure(figsize=(15,4), facecolor=\"#97BACB\")\n",
    "fig.suptitle(\"Learning Plot of Model for Loss\")\n",
    "pl=sns.lineplot(data=history_df[\"loss\"],color=\"#444160\")\n",
    "pl.set(ylabel =\"Training Loss\")\n",
    "pl.set(xlabel =\"Epochs\")\n",
    "\n",
    "\n",
    "def Malody_Generator(Note_Count):\n",
    "    seed = X_seed[np.random.randint(0,len(X_seed)-1)]\n",
    "    Music = \"\"\n",
    "    Notes_Generated=[]\n",
    "    for i in range(Note_Count):\n",
    "        seed = seed.reshape(1,length,1)\n",
    "        prediction = model.predict(seed, verbose=0)[0]\n",
    "        prediction = np.log(prediction) / 1.0 #diversity\n",
    "        exp_preds = np.exp(prediction)\n",
    "        prediction = exp_preds / np.sum(exp_preds)\n",
    "        index = np.argmax(prediction)\n",
    "        index_N = index/ float(L_symb)   \n",
    "        Notes_Generated.append(index)\n",
    "        Music = [reverse_mapping[char] for char in Notes_Generated]\n",
    "        seed = np.insert(seed[0],len(seed[0]),index_N)\n",
    "        seed = seed[1:]\n",
    "    #Now, we have music in form or a list of chords and notes and we want to be a midi file.\n",
    "    Melody = chords_n_notes(Music)\n",
    "    Melody_midi = stream.Stream(Melody)   \n",
    "    return Music,Melody_midi\n",
    "\n",
    "\n",
    "#getting the Notes and Melody created by the model\n",
    "Music_notes, Melody = Malody_Generator(100)\n",
    "#show(Melody)\n",
    "\n",
    "\n",
    "#To save the generated melody\n",
    "Melody.write('midi','Melody_Generated.mid')\n",
    "#to play audio or corpus\n",
    "#s = midi.translate.midiFileToStream(mf)\n",
    "#IPython.display.Audio(s)\n",
    "\n"
   ]
  },
  {
   "cell_type": "code",
   "execution_count": null,
   "id": "8057a0f1",
   "metadata": {},
   "outputs": [],
   "source": []
  }
 ],
 "metadata": {
  "kernelspec": {
   "display_name": "Python 3 (ipykernel)",
   "language": "python",
   "name": "python3"
  },
  "language_info": {
   "codemirror_mode": {
    "name": "ipython",
    "version": 3
   },
   "file_extension": ".py",
   "mimetype": "text/x-python",
   "name": "python",
   "nbconvert_exporter": "python",
   "pygments_lexer": "ipython3",
   "version": "3.8.13"
  }
 },
 "nbformat": 4,
 "nbformat_minor": 5
}
